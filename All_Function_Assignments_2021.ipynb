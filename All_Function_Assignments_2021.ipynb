{
  "nbformat": 4,
  "nbformat_minor": 0,
  "metadata": {
    "colab": {
      "name": "All_Function_Assignments_2021",
      "provenance": [],
      "collapsed_sections": []
    },
    "kernelspec": {
      "name": "python3",
      "display_name": "Python 3"
    }
  },
  "cells": [
    {
      "cell_type": "code",
      "metadata": {
        "colab": {
          "base_uri": "https://localhost:8080/"
        },
        "id": "vCjd8q-hK4TN",
        "outputId": "88859289-f51b-4d8c-c036-fa305728edd5"
      },
      "source": [
        "#1. Function to check whether a number is prime or not\r\n",
        "def prime_check(x):\r\n",
        "  if x <=1:\r\n",
        "    return False\r\n",
        "  else:\r\n",
        "    for i in range(2,x):\r\n",
        "      if x % i == 0:\r\n",
        "        return False\r\n",
        "    return True\r\n",
        "\r\n",
        "#Test\r\n",
        "print(prime_check(19))\r\n",
        "print(prime_check(7))\r\n",
        "print(prime_check(50))\r\n",
        "\r\n",
        "for i in range(20+1):\r\n",
        " print(str(i) + \" =\",prime_check(i))"
      ],
      "execution_count": null,
      "outputs": [
        {
          "output_type": "stream",
          "text": [
            "True\n",
            "True\n",
            "False\n",
            "0 = False\n",
            "1 = False\n",
            "2 = True\n",
            "3 = True\n",
            "4 = False\n",
            "5 = True\n",
            "6 = False\n",
            "7 = True\n",
            "8 = False\n",
            "9 = False\n",
            "10 = False\n",
            "11 = True\n",
            "12 = False\n",
            "13 = True\n",
            "14 = False\n",
            "15 = False\n",
            "16 = False\n",
            "17 = True\n",
            "18 = False\n",
            "19 = True\n",
            "20 = False\n"
          ],
          "name": "stdout"
        }
      ]
    },
    {
      "cell_type": "code",
      "metadata": {
        "colab": {
          "base_uri": "https://localhost:8080/"
        },
        "id": "an08V7cRLRjU",
        "outputId": "eacb4a74-df06-4837-cb71-70c94d13e49f"
      },
      "source": [
        "#2. Function to print first n prime numbers\r\n",
        "def nprime(x):\r\n",
        "  r = []\r\n",
        "  i = 2\r\n",
        "  while len(r) < x:\r\n",
        "    if prime_check(i):\r\n",
        "        r = r + [i]\r\n",
        "    i = i + 1\r\n",
        "  return r\r\n",
        "\r\n",
        "#Test\r\n",
        "print(nprime(20))\r\n",
        "\r\n",
        "print(nprime(0))\r\n",
        "print(nprime(1))"
      ],
      "execution_count": null,
      "outputs": [
        {
          "output_type": "stream",
          "text": [
            "[2, 3, 5, 7, 11, 13, 17, 19, 23, 29, 31, 37, 41, 43, 47, 53, 59, 61, 67, 71]\n",
            "[]\n",
            "[2]\n"
          ],
          "name": "stdout"
        }
      ]
    },
    {
      "cell_type": "code",
      "metadata": {
        "colab": {
          "base_uri": "https://localhost:8080/"
        },
        "id": "HR4otMa_L59E",
        "outputId": "efe15722-ce76-434b-8d7a-1f499db76bc1"
      },
      "source": [
        "#3. Function to prime numbers in a specific range \r\n",
        "def test(n):\r\n",
        "  for i in range(-n,n+1):\r\n",
        "    print(i,'=',prime_check(i))\r\n",
        "\r\n",
        "#Test\r\n",
        "test(10)"
      ],
      "execution_count": null,
      "outputs": [
        {
          "output_type": "stream",
          "text": [
            "-10 = False\n",
            "-9 = False\n",
            "-8 = False\n",
            "-7 = False\n",
            "-6 = False\n",
            "-5 = False\n",
            "-4 = False\n",
            "-3 = False\n",
            "-2 = False\n",
            "-1 = False\n",
            "0 = False\n",
            "1 = False\n",
            "2 = True\n",
            "3 = True\n",
            "4 = False\n",
            "5 = True\n",
            "6 = False\n",
            "7 = True\n",
            "8 = False\n",
            "9 = False\n",
            "10 = False\n"
          ],
          "name": "stdout"
        }
      ]
    },
    {
      "cell_type": "code",
      "metadata": {
        "colab": {
          "base_uri": "https://localhost:8080/"
        },
        "id": "AHQGjZmgNMGt",
        "outputId": "33d1c78f-d571-42ef-db9f-57162ca1030e"
      },
      "source": [
        "#4. Function to find the square root of a number\r\n",
        "def sqr_root(x):\r\n",
        "  return x ** (1/2)\r\n",
        "\r\n",
        "#Test\r\n",
        "print(sqr_root(25))\r\n",
        "\r\n",
        "#5. Function to find the square of a number\r\n",
        "def square(x):\r\n",
        "  return x ** 2\r\n",
        "\r\n",
        "#Test\r\n",
        "print(square(25))"
      ],
      "execution_count": null,
      "outputs": [
        {
          "output_type": "stream",
          "text": [
            "5.0\n",
            "625\n"
          ],
          "name": "stdout"
        }
      ]
    },
    {
      "cell_type": "code",
      "metadata": {
        "colab": {
          "base_uri": "https://localhost:8080/"
        },
        "id": "Pxe6kijVNmwV",
        "outputId": "f8c3f271-44c1-4ed2-b48b-3b0db9427288"
      },
      "source": [
        "#6. Function to reverse an input\r\n",
        "def reverse(x):\r\n",
        "  r = \"\"\r\n",
        "  for i in x:\r\n",
        "    r = i + r\r\n",
        "  return r\r\n",
        "\r\n",
        "#7. Function with middle term repeating\r\n",
        "def genP(x):\r\n",
        "  x = x + reverse(x)\r\n",
        "  return x\r\n",
        "\r\n",
        "#Test\r\n",
        "print(genP(\"gibi\"))\r\n",
        "\r\n",
        "#8. Function with middle term not repeating  \r\n",
        "def gensmallPal(x):\r\n",
        "  y= \"\"\r\n",
        "  z= \"\"\r\n",
        "  for i in range(0,len(x)-1):\r\n",
        "    z = z + x[i]\r\n",
        "    y = z + reverse(x)\r\n",
        "  return y\r\n",
        "\r\n",
        "#Test\r\n",
        "print(gensmallPal(\"gibi\"))"
      ],
      "execution_count": null,
      "outputs": [
        {
          "output_type": "stream",
          "text": [
            "gibiibig\n",
            "gibibig\n"
          ],
          "name": "stdout"
        }
      ]
    },
    {
      "cell_type": "code",
      "metadata": {
        "colab": {
          "base_uri": "https://localhost:8080/"
        },
        "id": "4-o6EzTZSJFq",
        "outputId": "d8237792-f51b-46c2-e27d-224d36904546"
      },
      "source": [
        "#9. Function for NR method\r\n",
        "def mysqrt(x,tolerance):\r\n",
        "  approx = x\r\n",
        "  while abs(x - approx **2) > tolerance:\r\n",
        "    approx = (approx + x/ approx) / 2\r\n",
        "  return approx\r\n",
        "\r\n",
        "#Test\r\n",
        "for i in range(2,15):\r\n",
        "  print('i= ',i)\r\n",
        "  print('NR sqr_root     =',mysqrt(i,0.1))\r\n",
        "  print('Normal sqr_root =',sqr_root(i))\r\n",
        "  print()"
      ],
      "execution_count": null,
      "outputs": [
        {
          "output_type": "stream",
          "text": [
            "i=  2\n",
            "NR sqr_root     = 1.4166666666666665\n",
            "Normal sqr_root = 1.4142135623730951\n",
            "\n",
            "i=  3\n",
            "NR sqr_root     = 1.75\n",
            "Normal sqr_root = 1.7320508075688772\n",
            "\n",
            "i=  4\n",
            "NR sqr_root     = 2.000609756097561\n",
            "Normal sqr_root = 2.0\n",
            "\n",
            "i=  5\n",
            "NR sqr_root     = 2.238095238095238\n",
            "Normal sqr_root = 2.23606797749979\n",
            "\n",
            "i=  6\n",
            "NR sqr_root     = 2.454256360078278\n",
            "Normal sqr_root = 2.449489742783178\n",
            "\n",
            "i=  7\n",
            "NR sqr_root     = 2.654891304347826\n",
            "Normal sqr_root = 2.6457513110645907\n",
            "\n",
            "i=  8\n",
            "NR sqr_root     = 2.843780727630285\n",
            "Normal sqr_root = 2.8284271247461903\n",
            "\n",
            "i=  9\n",
            "NR sqr_root     = 3.00009155413138\n",
            "Normal sqr_root = 3.0\n",
            "\n",
            "i=  10\n",
            "NR sqr_root     = 3.16245562280389\n",
            "Normal sqr_root = 3.1622776601683795\n",
            "\n",
            "i=  11\n",
            "NR sqr_root     = 3.316938934730457\n",
            "Normal sqr_root = 3.3166247903554\n",
            "\n",
            "i=  12\n",
            "NR sqr_root     = 3.464616186413269\n",
            "Normal sqr_root = 3.4641016151377544\n",
            "\n",
            "i=  13\n",
            "NR sqr_root     = 3.6063454894655185\n",
            "Normal sqr_root = 3.605551275463989\n",
            "\n",
            "i=  14\n",
            "NR sqr_root     = 3.7428255135657547\n",
            "Normal sqr_root = 3.7416573867739413\n",
            "\n"
          ],
          "name": "stdout"
        }
      ]
    },
    {
      "cell_type": "code",
      "metadata": {
        "colab": {
          "base_uri": "https://localhost:8080/"
        },
        "id": "fSgW8O3CnYFe",
        "outputId": "cb4e7521-43bb-49f9-8b55-e6b37ad5c166"
      },
      "source": [
        "#10. Function to convert number to words\r\n",
        "def f(x):\r\n",
        "  number = (\"Zero\",\"One\",\"Two\",\"Three\",\"Four\",\"Five\",\"Six\",\"Seven\",\"Eight\",\"Nine\")\r\n",
        "  return number[x]\r\n",
        "\r\n",
        "#Test\r\n",
        "for i in range(0,9+1):\r\n",
        "  print(str(i), \"=\",f(i))"
      ],
      "execution_count": null,
      "outputs": [
        {
          "output_type": "stream",
          "text": [
            "0 = Zero\n",
            "1 = One\n",
            "2 = Two\n",
            "3 = Three\n",
            "4 = Four\n",
            "5 = Five\n",
            "6 = Six\n",
            "7 = Seven\n",
            "8 = Eight\n",
            "9 = Nine\n"
          ],
          "name": "stdout"
        }
      ]
    },
    {
      "cell_type": "code",
      "metadata": {
        "colab": {
          "base_uri": "https://localhost:8080/"
        },
        "id": "7FsYmI2NoKe5",
        "outputId": "f4cf1872-905d-49e8-cca7-59881ad0ae27"
      },
      "source": [
        "#11. Prime number check function\r\n",
        "def isPrime(x):\r\n",
        "  if x<=1:\r\n",
        "    return False\r\n",
        "  else:\r\n",
        "    for i in range(2,x):\r\n",
        "      if x % i ==0:\r\n",
        "        return False\r\n",
        "    return True\r\n",
        "\r\n",
        "#12. 'N' prime generator function\r\n",
        "def genPrimes(n):\r\n",
        "  r = []\r\n",
        "  i = 2\r\n",
        "  while len(r) < n:\r\n",
        "    if isPrime(i):\r\n",
        "      r = r + [i]\r\n",
        "    i = i + 1\r\n",
        "  return r\r\n",
        "\r\n",
        "#Test\r\n",
        "print(genPrimes(3))\r\n",
        "print(genPrimes(10))\r\n",
        "\r\n",
        "print(genPrimes(0))\r\n",
        "print(genPrimes(1))"
      ],
      "execution_count": null,
      "outputs": [
        {
          "output_type": "stream",
          "text": [
            "[2, 3, 5]\n",
            "[2, 3, 5, 7, 11, 13, 17, 19, 23, 29]\n",
            "[]\n",
            "[2]\n"
          ],
          "name": "stdout"
        }
      ]
    },
    {
      "cell_type": "code",
      "metadata": {
        "colab": {
          "base_uri": "https://localhost:8080/"
        },
        "id": "GLioURr-osHl",
        "outputId": "cc8d7c89-513f-45ac-c559-fdb87386f718"
      },
      "source": [
        "#13. 'N' prime square generator function\r\n",
        "def genPrimes_square(n):\r\n",
        "  r = []\r\n",
        "  i = 2\r\n",
        "  while len(r) < n:\r\n",
        "    if isPrime(i):\r\n",
        "      r = r + [i**2]\r\n",
        "    i = i + 1\r\n",
        "  return r\r\n",
        "\r\n",
        "#Test\r\n",
        "print(genPrimes_square(3))\r\n",
        "print(genPrimes_square(10))\r\n",
        "\r\n",
        "print(genPrimes_square(0))\r\n",
        "print(genPrimes_square(1))"
      ],
      "execution_count": null,
      "outputs": [
        {
          "output_type": "stream",
          "text": [
            "[4, 9, 25]\n",
            "[4, 9, 25, 49, 121, 169, 289, 361, 529, 841]\n",
            "[]\n",
            "[4]\n"
          ],
          "name": "stdout"
        }
      ]
    },
    {
      "cell_type": "code",
      "metadata": {
        "colab": {
          "base_uri": "https://localhost:8080/"
        },
        "id": "Q171xMk2o3gR",
        "outputId": "632e9f96-f2f1-40bd-9c91-2ba3eb7ff4c1"
      },
      "source": [
        "#14. Function to return square of list of numbers\r\n",
        "def genProd(x):\r\n",
        "  listsquare = []           \r\n",
        "  for i in x:\r\n",
        "    listsquare = listsquare + [i * i]               \r\n",
        "  return listsquare                       \r\n",
        "\r\n",
        "#Test                          \r\n",
        "print(genProd([1,2,3]))\r\n",
        "print(genProd([4,5,6]))\r\n",
        "\r\n",
        "print(genProd([0]))\r\n",
        "print(genProd([1]))"
      ],
      "execution_count": null,
      "outputs": [
        {
          "output_type": "stream",
          "text": [
            "[1, 4, 9]\n",
            "[16, 25, 36]\n",
            "[0]\n",
            "[1]\n"
          ],
          "name": "stdout"
        }
      ]
    },
    {
      "cell_type": "code",
      "metadata": {
        "colab": {
          "base_uri": "https://localhost:8080/"
        },
        "id": "ba6mcynfpAKx",
        "outputId": "2df75788-c82d-4bb6-9e13-3fcba7f9e438"
      },
      "source": [
        "#15. Function to return a list of the elements by checking it(odd or not)\r\n",
        "def genFilter(x):\r\n",
        "  r = []               \r\n",
        "  for i in x:         \r\n",
        "    if i % 2 == 0:     \r\n",
        "       j = [False]            \r\n",
        "    else:             \r\n",
        "       j = [True]            \r\n",
        "    r = r + j          \r\n",
        "  return r                                  \r\n",
        "\r\n",
        "#Test\r\n",
        "print(genFilter([1,2,3])) \r\n",
        "print(genFilter([4,5,6])) \r\n",
        "\r\n",
        "print(genFilter([0]))\r\n",
        "print(genFilter([1]))"
      ],
      "execution_count": null,
      "outputs": [
        {
          "output_type": "stream",
          "text": [
            "[True, False, True]\n",
            "[False, True, False]\n",
            "[False]\n",
            "[True]\n"
          ],
          "name": "stdout"
        }
      ]
    }
  ]
}