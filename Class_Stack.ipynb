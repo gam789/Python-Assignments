{
  "nbformat": 4,
  "nbformat_minor": 0,
  "metadata": {
    "colab": {
      "name": "Class_Stack",
      "provenance": [],
      "authorship_tag": "ABX9TyMwJo9iIJo+e7SPnT5fotjx",
      "include_colab_link": true
    },
    "kernelspec": {
      "name": "python3",
      "display_name": "Python 3"
    }
  },
  "cells": [
    {
      "cell_type": "markdown",
      "metadata": {
        "id": "view-in-github",
        "colab_type": "text"
      },
      "source": [
        "<a href=\"https://colab.research.google.com/github/gam789/Python-Assignments/blob/main/Class_Stack.ipynb\" target=\"_parent\"><img src=\"https://colab.research.google.com/assets/colab-badge.svg\" alt=\"Open In Colab\"/></a>"
      ]
    },
    {
      "cell_type": "code",
      "metadata": {
        "id": "F0sI7Uq1AcES"
      },
      "source": [
        "class stack:\r\n",
        "  \r\n",
        "  def __init__(self):\r\n",
        "    self.listState = []\r\n",
        "  \r\n",
        "  def push(self,x):\r\n",
        "    self.listState = self.listState + [x]\r\n",
        "    return self.listState\r\n",
        "   \r\n",
        "  def pop(self):\r\n",
        "    a = 0\r\n",
        "    b = len(self.listState) - 1\r\n",
        "    l = self.listState[len(self.listState)-1]\r\n",
        "    self.listState = self.listState[a:b]\r\n",
        "    return l"
      ],
      "execution_count": null,
      "outputs": []
    },
    {
      "cell_type": "code",
      "metadata": {
        "colab": {
          "base_uri": "https://localhost:8080/"
        },
        "id": "rrGO_7_7BEwk",
        "outputId": "43f17e94-8a0d-4e28-8c66-30e70ca387ce"
      },
      "source": [
        "x = stack()\r\n",
        "x.push(1)\r\n",
        "x.push(2)\r\n",
        "x.push(3)\r\n",
        "x.push(4)\r\n",
        "\r\n",
        "print(x.pop())\r\n",
        "print(x.pop())\r\n",
        "print(x.pop())\r\n",
        "print(x.pop())"
      ],
      "execution_count": null,
      "outputs": [
        {
          "output_type": "stream",
          "text": [
            "4\n",
            "3\n",
            "2\n",
            "1\n"
          ],
          "name": "stdout"
        }
      ]
    }
  ]
}