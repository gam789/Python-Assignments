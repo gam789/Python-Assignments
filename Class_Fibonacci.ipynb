{
  "nbformat": 4,
  "nbformat_minor": 0,
  "metadata": {
    "colab": {
      "name": "Class_Fibonacci",
      "provenance": [],
      "collapsed_sections": [],
      "authorship_tag": "ABX9TyNvI4wuOZsUjEWEJ0NMsoJv",
      "include_colab_link": true
    },
    "kernelspec": {
      "name": "python3",
      "display_name": "Python 3"
    }
  },
  "cells": [
    {
      "cell_type": "markdown",
      "metadata": {
        "id": "view-in-github",
        "colab_type": "text"
      },
      "source": [
        "<a href=\"https://colab.research.google.com/github/gam789/Python-Assignments/blob/main/Class_Fibonacci.ipynb\" target=\"_parent\"><img src=\"https://colab.research.google.com/assets/colab-badge.svg\" alt=\"Open In Colab\"/></a>"
      ]
    },
    {
      "cell_type": "code",
      "metadata": {
        "id": "tj3-kIW2zTjZ"
      },
      "source": [
        "class fib:\r\n",
        "  \r\n",
        "  def __init__(self):\r\n",
        "    self.a=0\r\n",
        "    self.b=0\r\n",
        "\r\n",
        "  def reset(self):\r\n",
        "    self.a = 0\r\n",
        "    self.b = 1\r\n",
        "    return True\r\n",
        "\r\n",
        "  def get(self):\r\n",
        "    fib = self.a+self.b\r\n",
        "    self.a = self.b\r\n",
        "    self.b = fib\r\n",
        "    return self.a"
      ],
      "execution_count": null,
      "outputs": []
    },
    {
      "cell_type": "code",
      "metadata": {
        "colab": {
          "base_uri": "https://localhost:8080/"
        },
        "id": "cheZajGrzlTl",
        "outputId": "f3961511-7f19-48d5-ccdf-8e05bc10f113"
      },
      "source": [
        "x=fib()\r\n",
        "x.__init__()\r\n",
        "x.reset()\r\n",
        "print('x=')\r\n",
        "print(x.get())\r\n",
        "print(x.get())\r\n",
        "print(x.get())\r\n",
        "print(x.get())\r\n",
        "print(x.get())\r\n",
        "print('Reset')\r\n",
        "\r\n",
        "x.reset()\r\n",
        "print(x.get())\r\n",
        "print(x.get())\r\n",
        "print(x.get())\r\n",
        "print(x.get())\r\n",
        "print(x.get())\r\n",
        "print(x.get())\r\n",
        "print(x.get())\r\n",
        "print(x.get())\r\n",
        "print(x.get())\r\n",
        "print(x.get())"
      ],
      "execution_count": null,
      "outputs": [
        {
          "output_type": "stream",
          "text": [
            "x=\n",
            "1\n",
            "1\n",
            "2\n",
            "3\n",
            "5\n",
            "Reset\n",
            "1\n",
            "1\n",
            "2\n",
            "3\n",
            "5\n",
            "8\n",
            "13\n",
            "21\n",
            "34\n",
            "55\n"
          ],
          "name": "stdout"
        }
      ]
    }
  ]
}